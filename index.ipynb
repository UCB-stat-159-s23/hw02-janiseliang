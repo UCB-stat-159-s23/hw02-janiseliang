{
 "cells": [
  {
   "cell_type": "markdown",
   "id": "f8f4cb83-ef11-4ae5-8226-ee2dcb8b440e",
   "metadata": {
    "tags": [],
    "user_expressions": []
   },
   "source": [
    "_This repository is public so that Binder can find it. All code and data is based on the original [LIGO Center for Open Science Tutorial Repository](https://github.com/losc-tutorial/LOSC_Event_tutorial). This repository is a class exercise that restructures the original LIGO code for improved reproducibility, as a homework assignment for the [Spring 2023 installment of UC Berkeley's Stat 159/259 course, _Reproducible and Collaborative Data Science](https://ucb-stat-159-s23.github.io/site). Authorship of the original analysis code rests with the LIGO collaboration._"
   ]
  },
  {
   "cell_type": "code",
   "execution_count": null,
   "id": "f96bcd6e-9f62-40f0-b784-676e1c4fd6cc",
   "metadata": {},
   "outputs": [],
   "source": []
  }
 ],
 "metadata": {
  "kernelspec": {
   "display_name": "Python 3 (ipykernel)",
   "language": "python",
   "name": "python3"
  },
  "language_info": {
   "codemirror_mode": {
    "name": "ipython",
    "version": 3
   },
   "file_extension": ".py",
   "mimetype": "text/x-python",
   "name": "python",
   "nbconvert_exporter": "python",
   "pygments_lexer": "ipython3",
   "version": "3.10.8"
  }
 },
 "nbformat": 4,
 "nbformat_minor": 5
}
